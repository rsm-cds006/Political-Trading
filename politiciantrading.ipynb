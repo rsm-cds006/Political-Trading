{
 "cells": [
  {
   "cell_type": "code",
   "execution_count": 11,
   "metadata": {},
   "outputs": [
    {
     "name": "stderr",
     "output_type": "stream",
     "text": [
      "[nltk_data] Downloading package punkt to /home/jovyan/nltk_data...\n",
      "[nltk_data]   Package punkt is already up-to-date!\n"
     ]
    }
   ],
   "source": [
    "import requests\n",
    "from bs4 import BeautifulSoup\n",
    "import pandas as pd\n",
    "import re\n",
    "import nltk\n",
    "import plotly.express as px\n",
    "\n",
    "nltk.download('punkt')\n",
    "\n",
    "def scrape_capitol_trades():\n",
    "    headers = {\"User-Agent\": \"Mozilla/5.0\"}\n",
    "    trades = []\n",
    "    page = 1\n",
    "\n",
    "    # Loop until no more pages are found\n",
    "    while True:\n",
    "        # last 180 days\n",
    "        url = f\"https://www.capitoltrades.com/trades?txDate=180d&page={page}\"\n",
    "        response = requests.get(url, headers=headers)\n",
    "        soup = BeautifulSoup(response.content, 'html.parser')\n",
    "\n",
    "        #finds the table on the site containing the trades\n",
    "        table = soup.find('table', {'class': 'trades-table'})\n",
    "        rows = table.find_all('tr') if table else []\n",
    "\n",
    "        # If no rows are found, break the loop as there are no more trades\n",
    "        if not rows:\n",
    "            break\n",
    "\n",
    "        for row in rows:\n",
    "            columns = row.find_all('td')\n",
    "            if len(columns) > 0:\n",
    "                trade_data = {\n",
    "                    'politician': columns[0].text.strip(),\n",
    "                    'trade': columns[1].text.strip(),\n",
    "                    'traded': columns[3].text.strip(),\n",
    "                    'filedafter': columns[4].text.strip(),\n",
    "                    'owner': columns[5].text.strip(),\n",
    "                    'type': columns[6].text.strip(),\n",
    "                    'size': columns[7].text.strip(),\n",
    "                    'price': columns[8].text.strip(),\n",
    "                    'link': row.find('a')['href'] if row.find('a') else ''\n",
    "                }\n",
    "                trades.append(trade_data)\n",
    "\n",
    "        # move to the next page\n",
    "        page += 1\n",
    "\n",
    "    df = pd.DataFrame(trades)\n",
    "\n",
    "    # company name and symbol from the 'trade' column using regular expressions\n",
    "    def extract_company_symbol(trade):\n",
    "        # capture company name and symbol\n",
    "        match = re.match(r'^(.*?)([A-Z\\.]{1,5})(:US)?$', trade)\n",
    "        if match:\n",
    "            return match.group(1).strip(), match.group(2) + (\":US\" if match.group(3) else \"\")\n",
    "        else:\n",
    "            return trade.strip(), 'N/A'\n",
    "\n",
    "    df[['company_name', 'symbol']] = df['trade'].apply(lambda x: pd.Series(extract_company_symbol(x)))\n",
    "\n",
    "    df['price'] = df['price'].str.strip().str.upper()\n",
    "\n",
    "    # list of symbols to filter by\n",
    "    symbols = [\"AAPL\", \"MSFT\", \"GOOGL\", \"AMZN\", \"NVDA\", \"BRK.B\", \"TSLA\", \"META\", \"TSM\", \"V\",\n",
    "               \"UNH\", \"JNJ\", \"XOM\", \"WMT\", \"JPM\", \"LLY\", \"PG\", \"MA\", \"HD\", \"CVX\", \"MRK\", \"ABBV\",\n",
    "               \"PEP\", \"KO\", \"AVGO\", \"PFE\", \"NVO\", \"TMO\", \"ASML\", \"CSCO\", \"NFLX\", \"ORCL\", \"COST\",\n",
    "               \"DIS\", \"NKE\", \"MCD\", \"DHR\", \"ACN\", \"LIN\", \"AMD\", \"TXN\", \"VZ\", \"ABT\", \"UPS\", \"NEE\",\n",
    "               \"PM\", \"RTX\", \"SBUX\", \"AMGN\", \"HON\"]\n",
    "\n",
    "    df['symbol_normalized'] = df['symbol'].str.replace(':US', '')\n",
    "    df_filtered = df[df['symbol_normalized'].isin(symbols)]\n",
    "\n",
    "    return df_filtered"
   ]
  },
  {
   "cell_type": "code",
   "execution_count": 12,
   "metadata": {},
   "outputs": [
    {
     "data": {
      "application/vnd.plotly.v1+json": {
       "config": {
        "plotlyServerURL": "https://plot.ly"
       },
       "data": [
        {
         "coloraxis": "coloraxis",
         "customdata": [
          [
           98765450,
           "Tommy TubervilleRepublicanSenate: $98765450.0"
          ],
          [
           -4595250,
           "John BoozmanRepublicanSenate: $-4595250.0"
          ],
          [
           823327500,
           "Nancy PelosiDemocratHouse: $823327500.0"
          ],
          [
           567600,
           "Tom CarperDemocratSenate: $567600.0"
          ],
          [
           48063050,
           "Scott FranklinRepublicanHouse: $48063050.0"
          ],
          [
           12155000,
           "Rick AllenRepublicanHouse: $12155000.0"
          ],
          [
           -6275100,
           "Jonathan JacksonDemocratHouse: $-6275100.0"
          ],
          [
           0,
           "Morgan McGarveyDemocratHouse: $0.0"
          ],
          [
           -1530725,
           "Bill KeatingDemocratHouse: $-1530725.0"
          ],
          [
           0,
           "Susan CollinsRepublicanSenate: $0.0"
          ],
          [
           55248600,
           "John JamesRepublicanHouse: $55248600.0"
          ],
          [
           11152750,
           "Tina SmithDemocratSenate: $11152750.0"
          ],
          [
           3088800,
           "Deborah RossDemocratHouse: $3088800.0"
          ],
          [
           19828725,
           "Josh GottheimerDemocratHouse: $19828725.0"
          ],
          [
           4415550,
           "Greg LandsmanDemocratHouse: $4415550.0"
          ],
          [
           3044600,
           "Markwayne MullinRepublicanSenate: $3044600.0"
          ],
          [
           25782750.000000004,
           "Ron WydenDemocratSenate: $25782750.0"
          ],
          [
           8623350,
           "Mike KellyRepublicanHouse: $8623350.0"
          ],
          [
           17513475,
           "Sheldon WhitehouseDemocratSenate: $17513475.0"
          ],
          [
           1619912775,
           "Michael McCaulRepublicanHouse: $1619912775.0"
          ],
          [
           15229650,
           "Dan NewhouseRepublicanHouse: $15229650.0"
          ],
          [
           13879200,
           "Shelley Moore CapitoRepublicanSenate: $13879200.0"
          ]
         ],
         "geo": "geo",
         "hovertemplate": "<b>%{hovertext}</b><br><br>politician_state=%{location}<br>Total Gain ($)=%{z}<br>text=%{customdata[1]}<extra></extra>",
         "hovertext": [
          "Tommy TubervilleRepublicanSenate",
          "John BoozmanRepublicanSenate",
          "Nancy PelosiDemocratHouse",
          "Tom CarperDemocratSenate",
          "Scott FranklinRepublicanHouse",
          "Rick AllenRepublicanHouse",
          "Jonathan JacksonDemocratHouse",
          "Morgan McGarveyDemocratHouse",
          "Bill KeatingDemocratHouse",
          "Susan CollinsRepublicanSenate",
          "John JamesRepublicanHouse",
          "Tina SmithDemocratSenate",
          "Deborah RossDemocratHouse",
          "Josh GottheimerDemocratHouse",
          "Greg LandsmanDemocratHouse",
          "Markwayne MullinRepublicanSenate",
          "Ron WydenDemocratSenate",
          "Mike KellyRepublicanHouse",
          "Sheldon WhitehouseDemocratSenate",
          "Michael McCaulRepublicanHouse",
          "Dan NewhouseRepublicanHouse",
          "Shelley Moore CapitoRepublicanSenate"
         ],
         "locationmode": "USA-states",
         "locations": [
          "AL",
          "AR",
          "CA",
          "DE",
          "FL",
          "GA",
          "IL",
          "KY",
          "MA",
          "ME",
          "MI",
          "MN",
          "NC",
          "NJ",
          "OH",
          "OK",
          "OR",
          "PA",
          "RI",
          "TX",
          "WA",
          "WV"
         ],
         "name": "",
         "type": "choropleth",
         "z": [
          98765450,
          -4595250,
          823327500,
          567600,
          48063050,
          12155000,
          -6275100,
          0,
          -1530725,
          0,
          55248600,
          11152750,
          3088800,
          19828725,
          4415550,
          3044600,
          25782750.000000004,
          8623350,
          17513475,
          1619912775,
          15229650,
          13879200
         ]
        }
       ],
       "layout": {
        "coloraxis": {
         "colorbar": {
          "title": {
           "text": "Total Gain ($)"
          }
         },
         "colorscale": [
          [
           0,
           "#440154"
          ],
          [
           0.1111111111111111,
           "#482878"
          ],
          [
           0.2222222222222222,
           "#3e4989"
          ],
          [
           0.3333333333333333,
           "#31688e"
          ],
          [
           0.4444444444444444,
           "#26828e"
          ],
          [
           0.5555555555555556,
           "#1f9e89"
          ],
          [
           0.6666666666666666,
           "#35b779"
          ],
          [
           0.7777777777777778,
           "#6ece58"
          ],
          [
           0.8888888888888888,
           "#b5de2b"
          ],
          [
           1,
           "#fde725"
          ]
         ]
        },
        "geo": {
         "bgcolor": "rgb(240, 240, 240)",
         "center": {},
         "domain": {
          "x": [
           0,
           1
          ],
          "y": [
           0,
           1
          ]
         },
         "lakecolor": "rgb(255, 255, 255)",
         "scope": "usa"
        },
        "legend": {
         "tracegroupgap": 0
        },
        "template": {
         "data": {
          "bar": [
           {
            "error_x": {
             "color": "#2a3f5f"
            },
            "error_y": {
             "color": "#2a3f5f"
            },
            "marker": {
             "line": {
              "color": "#E5ECF6",
              "width": 0.5
             },
             "pattern": {
              "fillmode": "overlay",
              "size": 10,
              "solidity": 0.2
             }
            },
            "type": "bar"
           }
          ],
          "barpolar": [
           {
            "marker": {
             "line": {
              "color": "#E5ECF6",
              "width": 0.5
             },
             "pattern": {
              "fillmode": "overlay",
              "size": 10,
              "solidity": 0.2
             }
            },
            "type": "barpolar"
           }
          ],
          "carpet": [
           {
            "aaxis": {
             "endlinecolor": "#2a3f5f",
             "gridcolor": "white",
             "linecolor": "white",
             "minorgridcolor": "white",
             "startlinecolor": "#2a3f5f"
            },
            "baxis": {
             "endlinecolor": "#2a3f5f",
             "gridcolor": "white",
             "linecolor": "white",
             "minorgridcolor": "white",
             "startlinecolor": "#2a3f5f"
            },
            "type": "carpet"
           }
          ],
          "choropleth": [
           {
            "colorbar": {
             "outlinewidth": 0,
             "ticks": ""
            },
            "type": "choropleth"
           }
          ],
          "contour": [
           {
            "colorbar": {
             "outlinewidth": 0,
             "ticks": ""
            },
            "colorscale": [
             [
              0,
              "#0d0887"
             ],
             [
              0.1111111111111111,
              "#46039f"
             ],
             [
              0.2222222222222222,
              "#7201a8"
             ],
             [
              0.3333333333333333,
              "#9c179e"
             ],
             [
              0.4444444444444444,
              "#bd3786"
             ],
             [
              0.5555555555555556,
              "#d8576b"
             ],
             [
              0.6666666666666666,
              "#ed7953"
             ],
             [
              0.7777777777777778,
              "#fb9f3a"
             ],
             [
              0.8888888888888888,
              "#fdca26"
             ],
             [
              1,
              "#f0f921"
             ]
            ],
            "type": "contour"
           }
          ],
          "contourcarpet": [
           {
            "colorbar": {
             "outlinewidth": 0,
             "ticks": ""
            },
            "type": "contourcarpet"
           }
          ],
          "heatmap": [
           {
            "colorbar": {
             "outlinewidth": 0,
             "ticks": ""
            },
            "colorscale": [
             [
              0,
              "#0d0887"
             ],
             [
              0.1111111111111111,
              "#46039f"
             ],
             [
              0.2222222222222222,
              "#7201a8"
             ],
             [
              0.3333333333333333,
              "#9c179e"
             ],
             [
              0.4444444444444444,
              "#bd3786"
             ],
             [
              0.5555555555555556,
              "#d8576b"
             ],
             [
              0.6666666666666666,
              "#ed7953"
             ],
             [
              0.7777777777777778,
              "#fb9f3a"
             ],
             [
              0.8888888888888888,
              "#fdca26"
             ],
             [
              1,
              "#f0f921"
             ]
            ],
            "type": "heatmap"
           }
          ],
          "heatmapgl": [
           {
            "colorbar": {
             "outlinewidth": 0,
             "ticks": ""
            },
            "colorscale": [
             [
              0,
              "#0d0887"
             ],
             [
              0.1111111111111111,
              "#46039f"
             ],
             [
              0.2222222222222222,
              "#7201a8"
             ],
             [
              0.3333333333333333,
              "#9c179e"
             ],
             [
              0.4444444444444444,
              "#bd3786"
             ],
             [
              0.5555555555555556,
              "#d8576b"
             ],
             [
              0.6666666666666666,
              "#ed7953"
             ],
             [
              0.7777777777777778,
              "#fb9f3a"
             ],
             [
              0.8888888888888888,
              "#fdca26"
             ],
             [
              1,
              "#f0f921"
             ]
            ],
            "type": "heatmapgl"
           }
          ],
          "histogram": [
           {
            "marker": {
             "pattern": {
              "fillmode": "overlay",
              "size": 10,
              "solidity": 0.2
             }
            },
            "type": "histogram"
           }
          ],
          "histogram2d": [
           {
            "colorbar": {
             "outlinewidth": 0,
             "ticks": ""
            },
            "colorscale": [
             [
              0,
              "#0d0887"
             ],
             [
              0.1111111111111111,
              "#46039f"
             ],
             [
              0.2222222222222222,
              "#7201a8"
             ],
             [
              0.3333333333333333,
              "#9c179e"
             ],
             [
              0.4444444444444444,
              "#bd3786"
             ],
             [
              0.5555555555555556,
              "#d8576b"
             ],
             [
              0.6666666666666666,
              "#ed7953"
             ],
             [
              0.7777777777777778,
              "#fb9f3a"
             ],
             [
              0.8888888888888888,
              "#fdca26"
             ],
             [
              1,
              "#f0f921"
             ]
            ],
            "type": "histogram2d"
           }
          ],
          "histogram2dcontour": [
           {
            "colorbar": {
             "outlinewidth": 0,
             "ticks": ""
            },
            "colorscale": [
             [
              0,
              "#0d0887"
             ],
             [
              0.1111111111111111,
              "#46039f"
             ],
             [
              0.2222222222222222,
              "#7201a8"
             ],
             [
              0.3333333333333333,
              "#9c179e"
             ],
             [
              0.4444444444444444,
              "#bd3786"
             ],
             [
              0.5555555555555556,
              "#d8576b"
             ],
             [
              0.6666666666666666,
              "#ed7953"
             ],
             [
              0.7777777777777778,
              "#fb9f3a"
             ],
             [
              0.8888888888888888,
              "#fdca26"
             ],
             [
              1,
              "#f0f921"
             ]
            ],
            "type": "histogram2dcontour"
           }
          ],
          "mesh3d": [
           {
            "colorbar": {
             "outlinewidth": 0,
             "ticks": ""
            },
            "type": "mesh3d"
           }
          ],
          "parcoords": [
           {
            "line": {
             "colorbar": {
              "outlinewidth": 0,
              "ticks": ""
             }
            },
            "type": "parcoords"
           }
          ],
          "pie": [
           {
            "automargin": true,
            "type": "pie"
           }
          ],
          "scatter": [
           {
            "fillpattern": {
             "fillmode": "overlay",
             "size": 10,
             "solidity": 0.2
            },
            "type": "scatter"
           }
          ],
          "scatter3d": [
           {
            "line": {
             "colorbar": {
              "outlinewidth": 0,
              "ticks": ""
             }
            },
            "marker": {
             "colorbar": {
              "outlinewidth": 0,
              "ticks": ""
             }
            },
            "type": "scatter3d"
           }
          ],
          "scattercarpet": [
           {
            "marker": {
             "colorbar": {
              "outlinewidth": 0,
              "ticks": ""
             }
            },
            "type": "scattercarpet"
           }
          ],
          "scattergeo": [
           {
            "marker": {
             "colorbar": {
              "outlinewidth": 0,
              "ticks": ""
             }
            },
            "type": "scattergeo"
           }
          ],
          "scattergl": [
           {
            "marker": {
             "colorbar": {
              "outlinewidth": 0,
              "ticks": ""
             }
            },
            "type": "scattergl"
           }
          ],
          "scattermapbox": [
           {
            "marker": {
             "colorbar": {
              "outlinewidth": 0,
              "ticks": ""
             }
            },
            "type": "scattermapbox"
           }
          ],
          "scatterpolar": [
           {
            "marker": {
             "colorbar": {
              "outlinewidth": 0,
              "ticks": ""
             }
            },
            "type": "scatterpolar"
           }
          ],
          "scatterpolargl": [
           {
            "marker": {
             "colorbar": {
              "outlinewidth": 0,
              "ticks": ""
             }
            },
            "type": "scatterpolargl"
           }
          ],
          "scatterternary": [
           {
            "marker": {
             "colorbar": {
              "outlinewidth": 0,
              "ticks": ""
             }
            },
            "type": "scatterternary"
           }
          ],
          "surface": [
           {
            "colorbar": {
             "outlinewidth": 0,
             "ticks": ""
            },
            "colorscale": [
             [
              0,
              "#0d0887"
             ],
             [
              0.1111111111111111,
              "#46039f"
             ],
             [
              0.2222222222222222,
              "#7201a8"
             ],
             [
              0.3333333333333333,
              "#9c179e"
             ],
             [
              0.4444444444444444,
              "#bd3786"
             ],
             [
              0.5555555555555556,
              "#d8576b"
             ],
             [
              0.6666666666666666,
              "#ed7953"
             ],
             [
              0.7777777777777778,
              "#fb9f3a"
             ],
             [
              0.8888888888888888,
              "#fdca26"
             ],
             [
              1,
              "#f0f921"
             ]
            ],
            "type": "surface"
           }
          ],
          "table": [
           {
            "cells": {
             "fill": {
              "color": "#EBF0F8"
             },
             "line": {
              "color": "white"
             }
            },
            "header": {
             "fill": {
              "color": "#C8D4E3"
             },
             "line": {
              "color": "white"
             }
            },
            "type": "table"
           }
          ]
         },
         "layout": {
          "annotationdefaults": {
           "arrowcolor": "#2a3f5f",
           "arrowhead": 0,
           "arrowwidth": 1
          },
          "autotypenumbers": "strict",
          "coloraxis": {
           "colorbar": {
            "outlinewidth": 0,
            "ticks": ""
           }
          },
          "colorscale": {
           "diverging": [
            [
             0,
             "#8e0152"
            ],
            [
             0.1,
             "#c51b7d"
            ],
            [
             0.2,
             "#de77ae"
            ],
            [
             0.3,
             "#f1b6da"
            ],
            [
             0.4,
             "#fde0ef"
            ],
            [
             0.5,
             "#f7f7f7"
            ],
            [
             0.6,
             "#e6f5d0"
            ],
            [
             0.7,
             "#b8e186"
            ],
            [
             0.8,
             "#7fbc41"
            ],
            [
             0.9,
             "#4d9221"
            ],
            [
             1,
             "#276419"
            ]
           ],
           "sequential": [
            [
             0,
             "#0d0887"
            ],
            [
             0.1111111111111111,
             "#46039f"
            ],
            [
             0.2222222222222222,
             "#7201a8"
            ],
            [
             0.3333333333333333,
             "#9c179e"
            ],
            [
             0.4444444444444444,
             "#bd3786"
            ],
            [
             0.5555555555555556,
             "#d8576b"
            ],
            [
             0.6666666666666666,
             "#ed7953"
            ],
            [
             0.7777777777777778,
             "#fb9f3a"
            ],
            [
             0.8888888888888888,
             "#fdca26"
            ],
            [
             1,
             "#f0f921"
            ]
           ],
           "sequentialminus": [
            [
             0,
             "#0d0887"
            ],
            [
             0.1111111111111111,
             "#46039f"
            ],
            [
             0.2222222222222222,
             "#7201a8"
            ],
            [
             0.3333333333333333,
             "#9c179e"
            ],
            [
             0.4444444444444444,
             "#bd3786"
            ],
            [
             0.5555555555555556,
             "#d8576b"
            ],
            [
             0.6666666666666666,
             "#ed7953"
            ],
            [
             0.7777777777777778,
             "#fb9f3a"
            ],
            [
             0.8888888888888888,
             "#fdca26"
            ],
            [
             1,
             "#f0f921"
            ]
           ]
          },
          "colorway": [
           "#636efa",
           "#EF553B",
           "#00cc96",
           "#ab63fa",
           "#FFA15A",
           "#19d3f3",
           "#FF6692",
           "#B6E880",
           "#FF97FF",
           "#FECB52"
          ],
          "font": {
           "color": "#2a3f5f"
          },
          "geo": {
           "bgcolor": "white",
           "lakecolor": "white",
           "landcolor": "#E5ECF6",
           "showlakes": true,
           "showland": true,
           "subunitcolor": "white"
          },
          "hoverlabel": {
           "align": "left"
          },
          "hovermode": "closest",
          "mapbox": {
           "style": "light"
          },
          "paper_bgcolor": "white",
          "plot_bgcolor": "#E5ECF6",
          "polar": {
           "angularaxis": {
            "gridcolor": "white",
            "linecolor": "white",
            "ticks": ""
           },
           "bgcolor": "#E5ECF6",
           "radialaxis": {
            "gridcolor": "white",
            "linecolor": "white",
            "ticks": ""
           }
          },
          "scene": {
           "xaxis": {
            "backgroundcolor": "#E5ECF6",
            "gridcolor": "white",
            "gridwidth": 2,
            "linecolor": "white",
            "showbackground": true,
            "ticks": "",
            "zerolinecolor": "white"
           },
           "yaxis": {
            "backgroundcolor": "#E5ECF6",
            "gridcolor": "white",
            "gridwidth": 2,
            "linecolor": "white",
            "showbackground": true,
            "ticks": "",
            "zerolinecolor": "white"
           },
           "zaxis": {
            "backgroundcolor": "#E5ECF6",
            "gridcolor": "white",
            "gridwidth": 2,
            "linecolor": "white",
            "showbackground": true,
            "ticks": "",
            "zerolinecolor": "white"
           }
          },
          "shapedefaults": {
           "line": {
            "color": "#2a3f5f"
           }
          },
          "ternary": {
           "aaxis": {
            "gridcolor": "white",
            "linecolor": "white",
            "ticks": ""
           },
           "baxis": {
            "gridcolor": "white",
            "linecolor": "white",
            "ticks": ""
           },
           "bgcolor": "#E5ECF6",
           "caxis": {
            "gridcolor": "white",
            "linecolor": "white",
            "ticks": ""
           }
          },
          "title": {
           "x": 0.05
          },
          "xaxis": {
           "automargin": true,
           "gridcolor": "white",
           "linecolor": "white",
           "ticks": "",
           "title": {
            "standoff": 15
           },
           "zerolinecolor": "white",
           "zerolinewidth": 2
          },
          "yaxis": {
           "automargin": true,
           "gridcolor": "white",
           "linecolor": "white",
           "ticks": "",
           "title": {
            "standoff": 15
           },
           "zerolinecolor": "white",
           "zerolinewidth": 2
          }
         }
        },
        "title": {
         "text": "Top-Earning Politicians by State (Past 180 Days)"
        }
       }
      },
      "text/html": [
       "<div>                            <div id=\"8aa911df-db45-4671-a515-83e19ebb4a71\" class=\"plotly-graph-div\" style=\"height:525px; width:100%;\"></div>            <script type=\"text/javascript\">                require([\"plotly\"], function(Plotly) {                    window.PLOTLYENV=window.PLOTLYENV || {};                                    if (document.getElementById(\"8aa911df-db45-4671-a515-83e19ebb4a71\")) {                    Plotly.newPlot(                        \"8aa911df-db45-4671-a515-83e19ebb4a71\",                        [{\"coloraxis\":\"coloraxis\",\"customdata\":[[98765450.0,\"Tommy TubervilleRepublicanSenate: $98765450.0\"],[-4595250.0,\"John BoozmanRepublicanSenate: $-4595250.0\"],[823327500.0,\"Nancy PelosiDemocratHouse: $823327500.0\"],[567600.0,\"Tom CarperDemocratSenate: $567600.0\"],[48063050.0,\"Scott FranklinRepublicanHouse: $48063050.0\"],[12155000.0,\"Rick AllenRepublicanHouse: $12155000.0\"],[-6275100.0,\"Jonathan JacksonDemocratHouse: $-6275100.0\"],[0.0,\"Morgan McGarveyDemocratHouse: $0.0\"],[-1530725.0,\"Bill KeatingDemocratHouse: $-1530725.0\"],[0.0,\"Susan CollinsRepublicanSenate: $0.0\"],[55248600.0,\"John JamesRepublicanHouse: $55248600.0\"],[11152750.0,\"Tina SmithDemocratSenate: $11152750.0\"],[3088800.0,\"Deborah RossDemocratHouse: $3088800.0\"],[19828725.0,\"Josh GottheimerDemocratHouse: $19828725.0\"],[4415550.0,\"Greg LandsmanDemocratHouse: $4415550.0\"],[3044600.0,\"Markwayne MullinRepublicanSenate: $3044600.0\"],[25782750.000000004,\"Ron WydenDemocratSenate: $25782750.0\"],[8623350.0,\"Mike KellyRepublicanHouse: $8623350.0\"],[17513475.0,\"Sheldon WhitehouseDemocratSenate: $17513475.0\"],[1619912775.0,\"Michael McCaulRepublicanHouse: $1619912775.0\"],[15229650.0,\"Dan NewhouseRepublicanHouse: $15229650.0\"],[13879200.0,\"Shelley Moore CapitoRepublicanSenate: $13879200.0\"]],\"geo\":\"geo\",\"hovertemplate\":\"\\u003cb\\u003e%{hovertext}\\u003c\\u002fb\\u003e\\u003cbr\\u003e\\u003cbr\\u003epolitician_state=%{location}\\u003cbr\\u003eTotal Gain ($)=%{z}\\u003cbr\\u003etext=%{customdata[1]}\\u003cextra\\u003e\\u003c\\u002fextra\\u003e\",\"hovertext\":[\"Tommy TubervilleRepublicanSenate\",\"John BoozmanRepublicanSenate\",\"Nancy PelosiDemocratHouse\",\"Tom CarperDemocratSenate\",\"Scott FranklinRepublicanHouse\",\"Rick AllenRepublicanHouse\",\"Jonathan JacksonDemocratHouse\",\"Morgan McGarveyDemocratHouse\",\"Bill KeatingDemocratHouse\",\"Susan CollinsRepublicanSenate\",\"John JamesRepublicanHouse\",\"Tina SmithDemocratSenate\",\"Deborah RossDemocratHouse\",\"Josh GottheimerDemocratHouse\",\"Greg LandsmanDemocratHouse\",\"Markwayne MullinRepublicanSenate\",\"Ron WydenDemocratSenate\",\"Mike KellyRepublicanHouse\",\"Sheldon WhitehouseDemocratSenate\",\"Michael McCaulRepublicanHouse\",\"Dan NewhouseRepublicanHouse\",\"Shelley Moore CapitoRepublicanSenate\"],\"locationmode\":\"USA-states\",\"locations\":[\"AL\",\"AR\",\"CA\",\"DE\",\"FL\",\"GA\",\"IL\",\"KY\",\"MA\",\"ME\",\"MI\",\"MN\",\"NC\",\"NJ\",\"OH\",\"OK\",\"OR\",\"PA\",\"RI\",\"TX\",\"WA\",\"WV\"],\"name\":\"\",\"z\":[98765450.0,-4595250.0,823327500.0,567600.0,48063050.0,12155000.0,-6275100.0,0.0,-1530725.0,0.0,55248600.0,11152750.0,3088800.0,19828725.0,4415550.0,3044600.0,25782750.000000004,8623350.0,17513475.0,1619912775.0,15229650.0,13879200.0],\"type\":\"choropleth\"}],                        {\"template\":{\"data\":{\"histogram2dcontour\":[{\"type\":\"histogram2dcontour\",\"colorbar\":{\"outlinewidth\":0,\"ticks\":\"\"},\"colorscale\":[[0.0,\"#0d0887\"],[0.1111111111111111,\"#46039f\"],[0.2222222222222222,\"#7201a8\"],[0.3333333333333333,\"#9c179e\"],[0.4444444444444444,\"#bd3786\"],[0.5555555555555556,\"#d8576b\"],[0.6666666666666666,\"#ed7953\"],[0.7777777777777778,\"#fb9f3a\"],[0.8888888888888888,\"#fdca26\"],[1.0,\"#f0f921\"]]}],\"choropleth\":[{\"type\":\"choropleth\",\"colorbar\":{\"outlinewidth\":0,\"ticks\":\"\"}}],\"histogram2d\":[{\"type\":\"histogram2d\",\"colorbar\":{\"outlinewidth\":0,\"ticks\":\"\"},\"colorscale\":[[0.0,\"#0d0887\"],[0.1111111111111111,\"#46039f\"],[0.2222222222222222,\"#7201a8\"],[0.3333333333333333,\"#9c179e\"],[0.4444444444444444,\"#bd3786\"],[0.5555555555555556,\"#d8576b\"],[0.6666666666666666,\"#ed7953\"],[0.7777777777777778,\"#fb9f3a\"],[0.8888888888888888,\"#fdca26\"],[1.0,\"#f0f921\"]]}],\"heatmap\":[{\"type\":\"heatmap\",\"colorbar\":{\"outlinewidth\":0,\"ticks\":\"\"},\"colorscale\":[[0.0,\"#0d0887\"],[0.1111111111111111,\"#46039f\"],[0.2222222222222222,\"#7201a8\"],[0.3333333333333333,\"#9c179e\"],[0.4444444444444444,\"#bd3786\"],[0.5555555555555556,\"#d8576b\"],[0.6666666666666666,\"#ed7953\"],[0.7777777777777778,\"#fb9f3a\"],[0.8888888888888888,\"#fdca26\"],[1.0,\"#f0f921\"]]}],\"heatmapgl\":[{\"type\":\"heatmapgl\",\"colorbar\":{\"outlinewidth\":0,\"ticks\":\"\"},\"colorscale\":[[0.0,\"#0d0887\"],[0.1111111111111111,\"#46039f\"],[0.2222222222222222,\"#7201a8\"],[0.3333333333333333,\"#9c179e\"],[0.4444444444444444,\"#bd3786\"],[0.5555555555555556,\"#d8576b\"],[0.6666666666666666,\"#ed7953\"],[0.7777777777777778,\"#fb9f3a\"],[0.8888888888888888,\"#fdca26\"],[1.0,\"#f0f921\"]]}],\"contourcarpet\":[{\"type\":\"contourcarpet\",\"colorbar\":{\"outlinewidth\":0,\"ticks\":\"\"}}],\"contour\":[{\"type\":\"contour\",\"colorbar\":{\"outlinewidth\":0,\"ticks\":\"\"},\"colorscale\":[[0.0,\"#0d0887\"],[0.1111111111111111,\"#46039f\"],[0.2222222222222222,\"#7201a8\"],[0.3333333333333333,\"#9c179e\"],[0.4444444444444444,\"#bd3786\"],[0.5555555555555556,\"#d8576b\"],[0.6666666666666666,\"#ed7953\"],[0.7777777777777778,\"#fb9f3a\"],[0.8888888888888888,\"#fdca26\"],[1.0,\"#f0f921\"]]}],\"surface\":[{\"type\":\"surface\",\"colorbar\":{\"outlinewidth\":0,\"ticks\":\"\"},\"colorscale\":[[0.0,\"#0d0887\"],[0.1111111111111111,\"#46039f\"],[0.2222222222222222,\"#7201a8\"],[0.3333333333333333,\"#9c179e\"],[0.4444444444444444,\"#bd3786\"],[0.5555555555555556,\"#d8576b\"],[0.6666666666666666,\"#ed7953\"],[0.7777777777777778,\"#fb9f3a\"],[0.8888888888888888,\"#fdca26\"],[1.0,\"#f0f921\"]]}],\"mesh3d\":[{\"type\":\"mesh3d\",\"colorbar\":{\"outlinewidth\":0,\"ticks\":\"\"}}],\"scatter\":[{\"fillpattern\":{\"fillmode\":\"overlay\",\"size\":10,\"solidity\":0.2},\"type\":\"scatter\"}],\"parcoords\":[{\"type\":\"parcoords\",\"line\":{\"colorbar\":{\"outlinewidth\":0,\"ticks\":\"\"}}}],\"scatterpolargl\":[{\"type\":\"scatterpolargl\",\"marker\":{\"colorbar\":{\"outlinewidth\":0,\"ticks\":\"\"}}}],\"bar\":[{\"error_x\":{\"color\":\"#2a3f5f\"},\"error_y\":{\"color\":\"#2a3f5f\"},\"marker\":{\"line\":{\"color\":\"#E5ECF6\",\"width\":0.5},\"pattern\":{\"fillmode\":\"overlay\",\"size\":10,\"solidity\":0.2}},\"type\":\"bar\"}],\"scattergeo\":[{\"type\":\"scattergeo\",\"marker\":{\"colorbar\":{\"outlinewidth\":0,\"ticks\":\"\"}}}],\"scatterpolar\":[{\"type\":\"scatterpolar\",\"marker\":{\"colorbar\":{\"outlinewidth\":0,\"ticks\":\"\"}}}],\"histogram\":[{\"marker\":{\"pattern\":{\"fillmode\":\"overlay\",\"size\":10,\"solidity\":0.2}},\"type\":\"histogram\"}],\"scattergl\":[{\"type\":\"scattergl\",\"marker\":{\"colorbar\":{\"outlinewidth\":0,\"ticks\":\"\"}}}],\"scatter3d\":[{\"type\":\"scatter3d\",\"line\":{\"colorbar\":{\"outlinewidth\":0,\"ticks\":\"\"}},\"marker\":{\"colorbar\":{\"outlinewidth\":0,\"ticks\":\"\"}}}],\"scattermapbox\":[{\"type\":\"scattermapbox\",\"marker\":{\"colorbar\":{\"outlinewidth\":0,\"ticks\":\"\"}}}],\"scatterternary\":[{\"type\":\"scatterternary\",\"marker\":{\"colorbar\":{\"outlinewidth\":0,\"ticks\":\"\"}}}],\"scattercarpet\":[{\"type\":\"scattercarpet\",\"marker\":{\"colorbar\":{\"outlinewidth\":0,\"ticks\":\"\"}}}],\"carpet\":[{\"aaxis\":{\"endlinecolor\":\"#2a3f5f\",\"gridcolor\":\"white\",\"linecolor\":\"white\",\"minorgridcolor\":\"white\",\"startlinecolor\":\"#2a3f5f\"},\"baxis\":{\"endlinecolor\":\"#2a3f5f\",\"gridcolor\":\"white\",\"linecolor\":\"white\",\"minorgridcolor\":\"white\",\"startlinecolor\":\"#2a3f5f\"},\"type\":\"carpet\"}],\"table\":[{\"cells\":{\"fill\":{\"color\":\"#EBF0F8\"},\"line\":{\"color\":\"white\"}},\"header\":{\"fill\":{\"color\":\"#C8D4E3\"},\"line\":{\"color\":\"white\"}},\"type\":\"table\"}],\"barpolar\":[{\"marker\":{\"line\":{\"color\":\"#E5ECF6\",\"width\":0.5},\"pattern\":{\"fillmode\":\"overlay\",\"size\":10,\"solidity\":0.2}},\"type\":\"barpolar\"}],\"pie\":[{\"automargin\":true,\"type\":\"pie\"}]},\"layout\":{\"autotypenumbers\":\"strict\",\"colorway\":[\"#636efa\",\"#EF553B\",\"#00cc96\",\"#ab63fa\",\"#FFA15A\",\"#19d3f3\",\"#FF6692\",\"#B6E880\",\"#FF97FF\",\"#FECB52\"],\"font\":{\"color\":\"#2a3f5f\"},\"hovermode\":\"closest\",\"hoverlabel\":{\"align\":\"left\"},\"paper_bgcolor\":\"white\",\"plot_bgcolor\":\"#E5ECF6\",\"polar\":{\"bgcolor\":\"#E5ECF6\",\"angularaxis\":{\"gridcolor\":\"white\",\"linecolor\":\"white\",\"ticks\":\"\"},\"radialaxis\":{\"gridcolor\":\"white\",\"linecolor\":\"white\",\"ticks\":\"\"}},\"ternary\":{\"bgcolor\":\"#E5ECF6\",\"aaxis\":{\"gridcolor\":\"white\",\"linecolor\":\"white\",\"ticks\":\"\"},\"baxis\":{\"gridcolor\":\"white\",\"linecolor\":\"white\",\"ticks\":\"\"},\"caxis\":{\"gridcolor\":\"white\",\"linecolor\":\"white\",\"ticks\":\"\"}},\"coloraxis\":{\"colorbar\":{\"outlinewidth\":0,\"ticks\":\"\"}},\"colorscale\":{\"sequential\":[[0.0,\"#0d0887\"],[0.1111111111111111,\"#46039f\"],[0.2222222222222222,\"#7201a8\"],[0.3333333333333333,\"#9c179e\"],[0.4444444444444444,\"#bd3786\"],[0.5555555555555556,\"#d8576b\"],[0.6666666666666666,\"#ed7953\"],[0.7777777777777778,\"#fb9f3a\"],[0.8888888888888888,\"#fdca26\"],[1.0,\"#f0f921\"]],\"sequentialminus\":[[0.0,\"#0d0887\"],[0.1111111111111111,\"#46039f\"],[0.2222222222222222,\"#7201a8\"],[0.3333333333333333,\"#9c179e\"],[0.4444444444444444,\"#bd3786\"],[0.5555555555555556,\"#d8576b\"],[0.6666666666666666,\"#ed7953\"],[0.7777777777777778,\"#fb9f3a\"],[0.8888888888888888,\"#fdca26\"],[1.0,\"#f0f921\"]],\"diverging\":[[0,\"#8e0152\"],[0.1,\"#c51b7d\"],[0.2,\"#de77ae\"],[0.3,\"#f1b6da\"],[0.4,\"#fde0ef\"],[0.5,\"#f7f7f7\"],[0.6,\"#e6f5d0\"],[0.7,\"#b8e186\"],[0.8,\"#7fbc41\"],[0.9,\"#4d9221\"],[1,\"#276419\"]]},\"xaxis\":{\"gridcolor\":\"white\",\"linecolor\":\"white\",\"ticks\":\"\",\"title\":{\"standoff\":15},\"zerolinecolor\":\"white\",\"automargin\":true,\"zerolinewidth\":2},\"yaxis\":{\"gridcolor\":\"white\",\"linecolor\":\"white\",\"ticks\":\"\",\"title\":{\"standoff\":15},\"zerolinecolor\":\"white\",\"automargin\":true,\"zerolinewidth\":2},\"scene\":{\"xaxis\":{\"backgroundcolor\":\"#E5ECF6\",\"gridcolor\":\"white\",\"linecolor\":\"white\",\"showbackground\":true,\"ticks\":\"\",\"zerolinecolor\":\"white\",\"gridwidth\":2},\"yaxis\":{\"backgroundcolor\":\"#E5ECF6\",\"gridcolor\":\"white\",\"linecolor\":\"white\",\"showbackground\":true,\"ticks\":\"\",\"zerolinecolor\":\"white\",\"gridwidth\":2},\"zaxis\":{\"backgroundcolor\":\"#E5ECF6\",\"gridcolor\":\"white\",\"linecolor\":\"white\",\"showbackground\":true,\"ticks\":\"\",\"zerolinecolor\":\"white\",\"gridwidth\":2}},\"shapedefaults\":{\"line\":{\"color\":\"#2a3f5f\"}},\"annotationdefaults\":{\"arrowcolor\":\"#2a3f5f\",\"arrowhead\":0,\"arrowwidth\":1},\"geo\":{\"bgcolor\":\"white\",\"landcolor\":\"#E5ECF6\",\"subunitcolor\":\"white\",\"showland\":true,\"showlakes\":true,\"lakecolor\":\"white\"},\"title\":{\"x\":0.05},\"mapbox\":{\"style\":\"light\"}}},\"geo\":{\"domain\":{\"x\":[0.0,1.0],\"y\":[0.0,1.0]},\"center\":{},\"scope\":\"usa\",\"lakecolor\":\"rgb(255, 255, 255)\",\"bgcolor\":\"rgb(240, 240, 240)\"},\"coloraxis\":{\"colorbar\":{\"title\":{\"text\":\"Total Gain ($)\"}},\"colorscale\":[[0.0,\"#440154\"],[0.1111111111111111,\"#482878\"],[0.2222222222222222,\"#3e4989\"],[0.3333333333333333,\"#31688e\"],[0.4444444444444444,\"#26828e\"],[0.5555555555555556,\"#1f9e89\"],[0.6666666666666666,\"#35b779\"],[0.7777777777777778,\"#6ece58\"],[0.8888888888888888,\"#b5de2b\"],[1.0,\"#fde725\"]]},\"legend\":{\"tracegroupgap\":0},\"title\":{\"text\":\"Top-Earning Politicians by State (Past 180 Days)\"}},                        {\"responsive\": true}                    ).then(function(){\n",
       "                            \n",
       "var gd = document.getElementById('8aa911df-db45-4671-a515-83e19ebb4a71');\n",
       "var x = new MutationObserver(function (mutations, observer) {{\n",
       "        var display = window.getComputedStyle(gd).display;\n",
       "        if (!display || display === 'none') {{\n",
       "            console.log([gd, 'removed!']);\n",
       "            Plotly.purge(gd);\n",
       "            observer.disconnect();\n",
       "        }}\n",
       "}});\n",
       "\n",
       "// Listen for the removal of the full notebook cells\n",
       "var notebookContainer = gd.closest('#notebook-container');\n",
       "if (notebookContainer) {{\n",
       "    x.observe(notebookContainer, {childList: true});\n",
       "}}\n",
       "\n",
       "// Listen for the clearing of the current output cell\n",
       "var outputEl = gd.closest('.output');\n",
       "if (outputEl) {{\n",
       "    x.observe(outputEl, {childList: true});\n",
       "}}\n",
       "\n",
       "                        })                };                });            </script>        </div>"
      ]
     },
     "metadata": {},
     "output_type": "display_data"
    },
    {
     "name": "stdout",
     "output_type": "stream",
     "text": [
      "                            politician_name politician_state\n",
      "1                Lloyd DoggettDemocratHouse               TX\n",
      "4                    Ro KhannaDemocratHouse               CA\n",
      "616               John JamesRepublicanHouse               MI\n",
      "743              Suzan DelBeneDemocratHouse               WA\n",
      "752    Shelley Moore CapitoRepublicanSenate               WV\n",
      "755   Marjorie Taylor GreeneRepublicanHouse               GA\n",
      "769              Kathy ManningDemocratHouse               NC\n",
      "837        Sheldon WhitehouseDemocratSenate               RI\n",
      "847           Scott FranklinRepublicanHouse               FL\n",
      "916            Jared MoskowitzDemocratHouse               FL\n",
      "939           Thomas Kean JrRepublicanHouse               NJ\n",
      "1031          Michael McCaulRepublicanHouse               TX\n",
      "1125           Josh GottheimerDemocratHouse               NJ\n",
      "1181          Susan CollinsRepublicanSenate               ME\n",
      "1184             Greg LandsmanDemocratHouse               OH\n",
      "1255              Rick AllenRepublicanHouse               GA\n",
      "1697           John BoozmanRepublicanSenate               AR\n",
      "1701              Laurel LeeRepublicanHouse               FL\n",
      "1714         Michael BurgessRepublicanHouse               TX\n",
      "1715              Nancy PelosiDemocratHouse               CA\n",
      "1869              Kevin HernRepublicanHouse               OK\n",
      "1896       Markwayne MullinRepublicanSenate               OK\n",
      "2280           Morgan McGarveyDemocratHouse               KY\n",
      "2316            Debbie DingellDemocratHouse               MI\n",
      "2560              Bill KeatingDemocratHouse               MA\n",
      "2575              Mike KellyRepublicanHouse               PA\n",
      "2622       Tommy TubervilleRepublicanSenate               AL\n",
      "2756           Earl BlumenauerDemocratHouse               OR\n",
      "3211               Tom CarperDemocratSenate               DE\n",
      "3234             Stephen LynchDemocratHouse               MA\n",
      "3252               Neal DunnRepublicanHouse               FL\n",
      "3254           Pete SessionsRepublicanHouse               TX\n",
      "3510             Shri ThanedarDemocratHouse               MI\n",
      "4067          Jonathan JacksonDemocratHouse               IL\n",
      "4075              Deborah RossDemocratHouse               NC\n",
      "4128            Dan NewhouseRepublicanHouse               WA\n",
      "4295               Tina SmithDemocratSenate               MN\n",
      "4320                Ron WydenDemocratSenate               OR\n",
      "4340                Chip RoyRepublicanHouse               TX\n",
      "4346               Rick LarsenDemocratHouse               WA\n"
     ]
    },
    {
     "data": {
      "text/html": [
       "<div>\n",
       "<style scoped>\n",
       "    .dataframe tbody tr th:only-of-type {\n",
       "        vertical-align: middle;\n",
       "    }\n",
       "\n",
       "    .dataframe tbody tr th {\n",
       "        vertical-align: top;\n",
       "    }\n",
       "\n",
       "    .dataframe thead th {\n",
       "        text-align: right;\n",
       "    }\n",
       "</style>\n",
       "<table border=\"1\" class=\"dataframe\">\n",
       "  <thead>\n",
       "    <tr style=\"text-align: right;\">\n",
       "      <th></th>\n",
       "      <th>politician_name</th>\n",
       "      <th>politician_state</th>\n",
       "    </tr>\n",
       "  </thead>\n",
       "  <tbody>\n",
       "    <tr>\n",
       "      <th>1</th>\n",
       "      <td>Lloyd DoggettDemocratHouse</td>\n",
       "      <td>TX</td>\n",
       "    </tr>\n",
       "    <tr>\n",
       "      <th>4</th>\n",
       "      <td>Ro KhannaDemocratHouse</td>\n",
       "      <td>CA</td>\n",
       "    </tr>\n",
       "    <tr>\n",
       "      <th>616</th>\n",
       "      <td>John JamesRepublicanHouse</td>\n",
       "      <td>MI</td>\n",
       "    </tr>\n",
       "    <tr>\n",
       "      <th>743</th>\n",
       "      <td>Suzan DelBeneDemocratHouse</td>\n",
       "      <td>WA</td>\n",
       "    </tr>\n",
       "    <tr>\n",
       "      <th>752</th>\n",
       "      <td>Shelley Moore CapitoRepublicanSenate</td>\n",
       "      <td>WV</td>\n",
       "    </tr>\n",
       "    <tr>\n",
       "      <th>755</th>\n",
       "      <td>Marjorie Taylor GreeneRepublicanHouse</td>\n",
       "      <td>GA</td>\n",
       "    </tr>\n",
       "    <tr>\n",
       "      <th>769</th>\n",
       "      <td>Kathy ManningDemocratHouse</td>\n",
       "      <td>NC</td>\n",
       "    </tr>\n",
       "    <tr>\n",
       "      <th>837</th>\n",
       "      <td>Sheldon WhitehouseDemocratSenate</td>\n",
       "      <td>RI</td>\n",
       "    </tr>\n",
       "    <tr>\n",
       "      <th>847</th>\n",
       "      <td>Scott FranklinRepublicanHouse</td>\n",
       "      <td>FL</td>\n",
       "    </tr>\n",
       "    <tr>\n",
       "      <th>916</th>\n",
       "      <td>Jared MoskowitzDemocratHouse</td>\n",
       "      <td>FL</td>\n",
       "    </tr>\n",
       "    <tr>\n",
       "      <th>939</th>\n",
       "      <td>Thomas Kean JrRepublicanHouse</td>\n",
       "      <td>NJ</td>\n",
       "    </tr>\n",
       "    <tr>\n",
       "      <th>1031</th>\n",
       "      <td>Michael McCaulRepublicanHouse</td>\n",
       "      <td>TX</td>\n",
       "    </tr>\n",
       "    <tr>\n",
       "      <th>1125</th>\n",
       "      <td>Josh GottheimerDemocratHouse</td>\n",
       "      <td>NJ</td>\n",
       "    </tr>\n",
       "    <tr>\n",
       "      <th>1181</th>\n",
       "      <td>Susan CollinsRepublicanSenate</td>\n",
       "      <td>ME</td>\n",
       "    </tr>\n",
       "    <tr>\n",
       "      <th>1184</th>\n",
       "      <td>Greg LandsmanDemocratHouse</td>\n",
       "      <td>OH</td>\n",
       "    </tr>\n",
       "    <tr>\n",
       "      <th>1255</th>\n",
       "      <td>Rick AllenRepublicanHouse</td>\n",
       "      <td>GA</td>\n",
       "    </tr>\n",
       "    <tr>\n",
       "      <th>1697</th>\n",
       "      <td>John BoozmanRepublicanSenate</td>\n",
       "      <td>AR</td>\n",
       "    </tr>\n",
       "    <tr>\n",
       "      <th>1701</th>\n",
       "      <td>Laurel LeeRepublicanHouse</td>\n",
       "      <td>FL</td>\n",
       "    </tr>\n",
       "    <tr>\n",
       "      <th>1714</th>\n",
       "      <td>Michael BurgessRepublicanHouse</td>\n",
       "      <td>TX</td>\n",
       "    </tr>\n",
       "    <tr>\n",
       "      <th>1715</th>\n",
       "      <td>Nancy PelosiDemocratHouse</td>\n",
       "      <td>CA</td>\n",
       "    </tr>\n",
       "    <tr>\n",
       "      <th>1869</th>\n",
       "      <td>Kevin HernRepublicanHouse</td>\n",
       "      <td>OK</td>\n",
       "    </tr>\n",
       "    <tr>\n",
       "      <th>1896</th>\n",
       "      <td>Markwayne MullinRepublicanSenate</td>\n",
       "      <td>OK</td>\n",
       "    </tr>\n",
       "    <tr>\n",
       "      <th>2280</th>\n",
       "      <td>Morgan McGarveyDemocratHouse</td>\n",
       "      <td>KY</td>\n",
       "    </tr>\n",
       "    <tr>\n",
       "      <th>2316</th>\n",
       "      <td>Debbie DingellDemocratHouse</td>\n",
       "      <td>MI</td>\n",
       "    </tr>\n",
       "    <tr>\n",
       "      <th>2560</th>\n",
       "      <td>Bill KeatingDemocratHouse</td>\n",
       "      <td>MA</td>\n",
       "    </tr>\n",
       "    <tr>\n",
       "      <th>2575</th>\n",
       "      <td>Mike KellyRepublicanHouse</td>\n",
       "      <td>PA</td>\n",
       "    </tr>\n",
       "    <tr>\n",
       "      <th>2622</th>\n",
       "      <td>Tommy TubervilleRepublicanSenate</td>\n",
       "      <td>AL</td>\n",
       "    </tr>\n",
       "    <tr>\n",
       "      <th>2756</th>\n",
       "      <td>Earl BlumenauerDemocratHouse</td>\n",
       "      <td>OR</td>\n",
       "    </tr>\n",
       "    <tr>\n",
       "      <th>3211</th>\n",
       "      <td>Tom CarperDemocratSenate</td>\n",
       "      <td>DE</td>\n",
       "    </tr>\n",
       "    <tr>\n",
       "      <th>3234</th>\n",
       "      <td>Stephen LynchDemocratHouse</td>\n",
       "      <td>MA</td>\n",
       "    </tr>\n",
       "    <tr>\n",
       "      <th>3252</th>\n",
       "      <td>Neal DunnRepublicanHouse</td>\n",
       "      <td>FL</td>\n",
       "    </tr>\n",
       "    <tr>\n",
       "      <th>3254</th>\n",
       "      <td>Pete SessionsRepublicanHouse</td>\n",
       "      <td>TX</td>\n",
       "    </tr>\n",
       "    <tr>\n",
       "      <th>3510</th>\n",
       "      <td>Shri ThanedarDemocratHouse</td>\n",
       "      <td>MI</td>\n",
       "    </tr>\n",
       "    <tr>\n",
       "      <th>4067</th>\n",
       "      <td>Jonathan JacksonDemocratHouse</td>\n",
       "      <td>IL</td>\n",
       "    </tr>\n",
       "    <tr>\n",
       "      <th>4075</th>\n",
       "      <td>Deborah RossDemocratHouse</td>\n",
       "      <td>NC</td>\n",
       "    </tr>\n",
       "    <tr>\n",
       "      <th>4128</th>\n",
       "      <td>Dan NewhouseRepublicanHouse</td>\n",
       "      <td>WA</td>\n",
       "    </tr>\n",
       "    <tr>\n",
       "      <th>4295</th>\n",
       "      <td>Tina SmithDemocratSenate</td>\n",
       "      <td>MN</td>\n",
       "    </tr>\n",
       "    <tr>\n",
       "      <th>4320</th>\n",
       "      <td>Ron WydenDemocratSenate</td>\n",
       "      <td>OR</td>\n",
       "    </tr>\n",
       "    <tr>\n",
       "      <th>4340</th>\n",
       "      <td>Chip RoyRepublicanHouse</td>\n",
       "      <td>TX</td>\n",
       "    </tr>\n",
       "    <tr>\n",
       "      <th>4346</th>\n",
       "      <td>Rick LarsenDemocratHouse</td>\n",
       "      <td>WA</td>\n",
       "    </tr>\n",
       "  </tbody>\n",
       "</table>\n",
       "</div>"
      ],
      "text/plain": [
       "                            politician_name politician_state\n",
       "1                Lloyd DoggettDemocratHouse               TX\n",
       "4                    Ro KhannaDemocratHouse               CA\n",
       "616               John JamesRepublicanHouse               MI\n",
       "743              Suzan DelBeneDemocratHouse               WA\n",
       "752    Shelley Moore CapitoRepublicanSenate               WV\n",
       "755   Marjorie Taylor GreeneRepublicanHouse               GA\n",
       "769              Kathy ManningDemocratHouse               NC\n",
       "837        Sheldon WhitehouseDemocratSenate               RI\n",
       "847           Scott FranklinRepublicanHouse               FL\n",
       "916            Jared MoskowitzDemocratHouse               FL\n",
       "939           Thomas Kean JrRepublicanHouse               NJ\n",
       "1031          Michael McCaulRepublicanHouse               TX\n",
       "1125           Josh GottheimerDemocratHouse               NJ\n",
       "1181          Susan CollinsRepublicanSenate               ME\n",
       "1184             Greg LandsmanDemocratHouse               OH\n",
       "1255              Rick AllenRepublicanHouse               GA\n",
       "1697           John BoozmanRepublicanSenate               AR\n",
       "1701              Laurel LeeRepublicanHouse               FL\n",
       "1714         Michael BurgessRepublicanHouse               TX\n",
       "1715              Nancy PelosiDemocratHouse               CA\n",
       "1869              Kevin HernRepublicanHouse               OK\n",
       "1896       Markwayne MullinRepublicanSenate               OK\n",
       "2280           Morgan McGarveyDemocratHouse               KY\n",
       "2316            Debbie DingellDemocratHouse               MI\n",
       "2560              Bill KeatingDemocratHouse               MA\n",
       "2575              Mike KellyRepublicanHouse               PA\n",
       "2622       Tommy TubervilleRepublicanSenate               AL\n",
       "2756           Earl BlumenauerDemocratHouse               OR\n",
       "3211               Tom CarperDemocratSenate               DE\n",
       "3234             Stephen LynchDemocratHouse               MA\n",
       "3252               Neal DunnRepublicanHouse               FL\n",
       "3254           Pete SessionsRepublicanHouse               TX\n",
       "3510             Shri ThanedarDemocratHouse               MI\n",
       "4067          Jonathan JacksonDemocratHouse               IL\n",
       "4075              Deborah RossDemocratHouse               NC\n",
       "4128            Dan NewhouseRepublicanHouse               WA\n",
       "4295               Tina SmithDemocratSenate               MN\n",
       "4320                Ron WydenDemocratSenate               OR\n",
       "4340                Chip RoyRepublicanHouse               TX\n",
       "4346               Rick LarsenDemocratHouse               WA"
      ]
     },
     "execution_count": 12,
     "metadata": {},
     "output_type": "execute_result"
    }
   ],
   "source": [
    "# Scrape the trades data from the last 180 days\n",
    "capitol_trades_df = scrape_capitol_trades()\n",
    "\n",
    "# Calculate gains or losses\n",
    "size_mapping = {\n",
    "    '1K–15K': 7500,\n",
    "    '15K–50K': 32500,\n",
    "    '50K–100K': 75000,\n",
    "    '100K–250K': 175000,\n",
    "    '250K–500K': 375000,\n",
    "    '500K–1M': 750000,\n",
    "    '1M–5M': 3000000,\n",
    "    '5M–25M': 15000000,\n",
    "    '25M–50M': 37500000,\n",
    "    '50M–100M': 75000000\n",
    "}\n",
    "\n",
    "capitol_trades_df['size_value'] = capitol_trades_df['size'].map(size_mapping)\n",
    "capitol_trades_df['price'] = pd.to_numeric(capitol_trades_df['price'], errors='coerce')\n",
    "capitol_trades_df['transaction_amount'] = capitol_trades_df['size_value'] * capitol_trades_df['price']\n",
    "\n",
    "# Adjust gains based on transaction type\n",
    "capitol_trades_df['gain'] = capitol_trades_df.apply(\n",
    "    lambda x: x['transaction_amount'] if x['type'].lower() == 'sell' else -x['transaction_amount'], axis=1\n",
    ")\n",
    "\n",
    "# state and name of the politician\n",
    "capitol_trades_df[['politician_name', 'politician_state']] = capitol_trades_df['politician'].str.extract(r'([^\\d]+)([A-Z]{2})')\n",
    "\n",
    "# Group by politician and state, and sum the total gains for each politician\n",
    "politician_gains = capitol_trades_df.groupby(['politician_name', 'politician_state'])['gain'].sum().reset_index()\n",
    "\n",
    "# politician with the highest gains in each state\n",
    "top_politicians = politician_gains.loc[politician_gains.groupby('politician_state')['gain'].idxmax()]\n",
    "\n",
    "top_politicians['text'] = top_politicians['politician_name'] + \": $\" + top_politicians['gain'].round(2).astype(str)\n",
    "\n",
    "# visualize the top-earning politician by state\n",
    "fig = px.choropleth(\n",
    "    top_politicians,\n",
    "    locations='politician_state',\n",
    "    locationmode='USA-states',\n",
    "    color='gain',\n",
    "    hover_name='politician_name',\n",
    "    hover_data={'gain': True, 'text': True},\n",
    "    scope='usa',\n",
    "    color_continuous_scale='Viridis',\n",
    "    labels={'gain': 'Total Gain ($)'},\n",
    "    title='Top-Earning Politicians by State (Past 180 Days)'\n",
    ")\n",
    "\n",
    "fig.update_layout(\n",
    "    geo=dict(\n",
    "        lakecolor='rgb(255, 255, 255)',\n",
    "        bgcolor='rgb(240, 240, 240)'\n",
    "    )\n",
    ")\n",
    "\n",
    "fig.show()\n",
    "\n",
    "# list of all politicians who traded in the past 180 days\n",
    "unique_politicians = capitol_trades_df[['politician_name', 'politician_state']].drop_duplicates()\n",
    "\n",
    "print(unique_politicians)\n",
    "\n",
    "unique_politicians_df = pd.DataFrame(unique_politicians)\n",
    "unique_politicians_df"
   ]
  },
  {
   "cell_type": "code",
   "execution_count": 13,
   "metadata": {},
   "outputs": [
    {
     "name": "stdout",
     "output_type": "stream",
     "text": [
      "                         Politician Name State  Cumulative Gain ($)\n",
      "39      Tommy TubervilleRepublicanSenate    AL         9.876545e+07\n",
      "8           John BoozmanRepublicanSenate    AR        -4.595250e+06\n",
      "22             Nancy PelosiDemocratHouse    CA         8.233275e+08\n",
      "38              Tom CarperDemocratSenate    DE         5.676000e+05\n",
      "29         Scott FranklinRepublicanHouse    FL         4.806305e+07\n",
      "25             Rick AllenRepublicanHouse    GA         1.215500e+07\n",
      "10         Jonathan JacksonDemocratHouse    IL        -6.275100e+06\n",
      "21          Morgan McGarveyDemocratHouse    KY         0.000000e+00\n",
      "0              Bill KeatingDemocratHouse    MA        -1.530725e+06\n",
      "34         Susan CollinsRepublicanSenate    ME         0.000000e+00\n",
      "9              John JamesRepublicanHouse    MI         5.524860e+07\n",
      "37              Tina SmithDemocratSenate    MN         1.115275e+07\n",
      "4              Deborah RossDemocratHouse    NC         3.088800e+06\n",
      "11          Josh GottheimerDemocratHouse    NJ         1.982872e+07\n",
      "6             Greg LandsmanDemocratHouse    OH         4.415550e+06\n",
      "17      Markwayne MullinRepublicanSenate    OK         3.044600e+06\n",
      "28               Ron WydenDemocratSenate    OR         2.578275e+07\n",
      "20             Mike KellyRepublicanHouse    PA         8.623350e+06\n",
      "30      Sheldon WhitehouseDemocratSenate    RI         1.751348e+07\n",
      "19         Michael McCaulRepublicanHouse    TX         1.619913e+09\n",
      "2            Dan NewhouseRepublicanHouse    WA         1.522965e+07\n",
      "31  Shelley Moore CapitoRepublicanSenate    WV         1.387920e+07\n"
     ]
    },
    {
     "data": {
      "text/html": [
       "<div>\n",
       "<style scoped>\n",
       "    .dataframe tbody tr th:only-of-type {\n",
       "        vertical-align: middle;\n",
       "    }\n",
       "\n",
       "    .dataframe tbody tr th {\n",
       "        vertical-align: top;\n",
       "    }\n",
       "\n",
       "    .dataframe thead th {\n",
       "        text-align: right;\n",
       "    }\n",
       "</style>\n",
       "<table border=\"1\" class=\"dataframe\">\n",
       "  <thead>\n",
       "    <tr style=\"text-align: right;\">\n",
       "      <th></th>\n",
       "      <th>Politician Name</th>\n",
       "      <th>State</th>\n",
       "      <th>Cumulative Gain ($)</th>\n",
       "    </tr>\n",
       "  </thead>\n",
       "  <tbody>\n",
       "    <tr>\n",
       "      <th>39</th>\n",
       "      <td>Tommy TubervilleRepublicanSenate</td>\n",
       "      <td>AL</td>\n",
       "      <td>9.876545e+07</td>\n",
       "    </tr>\n",
       "    <tr>\n",
       "      <th>8</th>\n",
       "      <td>John BoozmanRepublicanSenate</td>\n",
       "      <td>AR</td>\n",
       "      <td>-4.595250e+06</td>\n",
       "    </tr>\n",
       "    <tr>\n",
       "      <th>22</th>\n",
       "      <td>Nancy PelosiDemocratHouse</td>\n",
       "      <td>CA</td>\n",
       "      <td>8.233275e+08</td>\n",
       "    </tr>\n",
       "    <tr>\n",
       "      <th>38</th>\n",
       "      <td>Tom CarperDemocratSenate</td>\n",
       "      <td>DE</td>\n",
       "      <td>5.676000e+05</td>\n",
       "    </tr>\n",
       "    <tr>\n",
       "      <th>29</th>\n",
       "      <td>Scott FranklinRepublicanHouse</td>\n",
       "      <td>FL</td>\n",
       "      <td>4.806305e+07</td>\n",
       "    </tr>\n",
       "    <tr>\n",
       "      <th>25</th>\n",
       "      <td>Rick AllenRepublicanHouse</td>\n",
       "      <td>GA</td>\n",
       "      <td>1.215500e+07</td>\n",
       "    </tr>\n",
       "    <tr>\n",
       "      <th>10</th>\n",
       "      <td>Jonathan JacksonDemocratHouse</td>\n",
       "      <td>IL</td>\n",
       "      <td>-6.275100e+06</td>\n",
       "    </tr>\n",
       "    <tr>\n",
       "      <th>21</th>\n",
       "      <td>Morgan McGarveyDemocratHouse</td>\n",
       "      <td>KY</td>\n",
       "      <td>0.000000e+00</td>\n",
       "    </tr>\n",
       "    <tr>\n",
       "      <th>0</th>\n",
       "      <td>Bill KeatingDemocratHouse</td>\n",
       "      <td>MA</td>\n",
       "      <td>-1.530725e+06</td>\n",
       "    </tr>\n",
       "    <tr>\n",
       "      <th>34</th>\n",
       "      <td>Susan CollinsRepublicanSenate</td>\n",
       "      <td>ME</td>\n",
       "      <td>0.000000e+00</td>\n",
       "    </tr>\n",
       "    <tr>\n",
       "      <th>9</th>\n",
       "      <td>John JamesRepublicanHouse</td>\n",
       "      <td>MI</td>\n",
       "      <td>5.524860e+07</td>\n",
       "    </tr>\n",
       "    <tr>\n",
       "      <th>37</th>\n",
       "      <td>Tina SmithDemocratSenate</td>\n",
       "      <td>MN</td>\n",
       "      <td>1.115275e+07</td>\n",
       "    </tr>\n",
       "    <tr>\n",
       "      <th>4</th>\n",
       "      <td>Deborah RossDemocratHouse</td>\n",
       "      <td>NC</td>\n",
       "      <td>3.088800e+06</td>\n",
       "    </tr>\n",
       "    <tr>\n",
       "      <th>11</th>\n",
       "      <td>Josh GottheimerDemocratHouse</td>\n",
       "      <td>NJ</td>\n",
       "      <td>1.982872e+07</td>\n",
       "    </tr>\n",
       "    <tr>\n",
       "      <th>6</th>\n",
       "      <td>Greg LandsmanDemocratHouse</td>\n",
       "      <td>OH</td>\n",
       "      <td>4.415550e+06</td>\n",
       "    </tr>\n",
       "    <tr>\n",
       "      <th>17</th>\n",
       "      <td>Markwayne MullinRepublicanSenate</td>\n",
       "      <td>OK</td>\n",
       "      <td>3.044600e+06</td>\n",
       "    </tr>\n",
       "    <tr>\n",
       "      <th>28</th>\n",
       "      <td>Ron WydenDemocratSenate</td>\n",
       "      <td>OR</td>\n",
       "      <td>2.578275e+07</td>\n",
       "    </tr>\n",
       "    <tr>\n",
       "      <th>20</th>\n",
       "      <td>Mike KellyRepublicanHouse</td>\n",
       "      <td>PA</td>\n",
       "      <td>8.623350e+06</td>\n",
       "    </tr>\n",
       "    <tr>\n",
       "      <th>30</th>\n",
       "      <td>Sheldon WhitehouseDemocratSenate</td>\n",
       "      <td>RI</td>\n",
       "      <td>1.751348e+07</td>\n",
       "    </tr>\n",
       "    <tr>\n",
       "      <th>19</th>\n",
       "      <td>Michael McCaulRepublicanHouse</td>\n",
       "      <td>TX</td>\n",
       "      <td>1.619913e+09</td>\n",
       "    </tr>\n",
       "    <tr>\n",
       "      <th>2</th>\n",
       "      <td>Dan NewhouseRepublicanHouse</td>\n",
       "      <td>WA</td>\n",
       "      <td>1.522965e+07</td>\n",
       "    </tr>\n",
       "    <tr>\n",
       "      <th>31</th>\n",
       "      <td>Shelley Moore CapitoRepublicanSenate</td>\n",
       "      <td>WV</td>\n",
       "      <td>1.387920e+07</td>\n",
       "    </tr>\n",
       "  </tbody>\n",
       "</table>\n",
       "</div>"
      ],
      "text/plain": [
       "                         Politician Name State  Cumulative Gain ($)\n",
       "39      Tommy TubervilleRepublicanSenate    AL         9.876545e+07\n",
       "8           John BoozmanRepublicanSenate    AR        -4.595250e+06\n",
       "22             Nancy PelosiDemocratHouse    CA         8.233275e+08\n",
       "38              Tom CarperDemocratSenate    DE         5.676000e+05\n",
       "29         Scott FranklinRepublicanHouse    FL         4.806305e+07\n",
       "25             Rick AllenRepublicanHouse    GA         1.215500e+07\n",
       "10         Jonathan JacksonDemocratHouse    IL        -6.275100e+06\n",
       "21          Morgan McGarveyDemocratHouse    KY         0.000000e+00\n",
       "0              Bill KeatingDemocratHouse    MA        -1.530725e+06\n",
       "34         Susan CollinsRepublicanSenate    ME         0.000000e+00\n",
       "9              John JamesRepublicanHouse    MI         5.524860e+07\n",
       "37              Tina SmithDemocratSenate    MN         1.115275e+07\n",
       "4              Deborah RossDemocratHouse    NC         3.088800e+06\n",
       "11          Josh GottheimerDemocratHouse    NJ         1.982872e+07\n",
       "6             Greg LandsmanDemocratHouse    OH         4.415550e+06\n",
       "17      Markwayne MullinRepublicanSenate    OK         3.044600e+06\n",
       "28               Ron WydenDemocratSenate    OR         2.578275e+07\n",
       "20             Mike KellyRepublicanHouse    PA         8.623350e+06\n",
       "30      Sheldon WhitehouseDemocratSenate    RI         1.751348e+07\n",
       "19         Michael McCaulRepublicanHouse    TX         1.619913e+09\n",
       "2            Dan NewhouseRepublicanHouse    WA         1.522965e+07\n",
       "31  Shelley Moore CapitoRepublicanSenate    WV         1.387920e+07"
      ]
     },
     "execution_count": 13,
     "metadata": {},
     "output_type": "execute_result"
    }
   ],
   "source": [
    "# top politicians with their cumulative gains by state\n",
    "top_politicians_summary = top_politicians[['politician_name', 'politician_state', 'gain']].copy()\n",
    "\n",
    "# Renaming columns for better readability\n",
    "top_politicians_summary.columns = ['Politician Name', 'State', 'Cumulative Gain ($)']\n",
    "\n",
    "print(top_politicians_summary)\n",
    "\n",
    "top_politicians_summary"
   ]
  }
 ],
 "metadata": {
  "kernelspec": {
   "display_name": "base",
   "language": "python",
   "name": "python3"
  },
  "language_info": {
   "codemirror_mode": {
    "name": "ipython",
    "version": 3
   },
   "file_extension": ".py",
   "mimetype": "text/x-python",
   "name": "python",
   "nbconvert_exporter": "python",
   "pygments_lexer": "ipython3",
   "version": "3.11.7"
  }
 },
 "nbformat": 4,
 "nbformat_minor": 2
}
